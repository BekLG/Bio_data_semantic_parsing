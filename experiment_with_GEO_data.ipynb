{
 "cells": [
  {
   "cell_type": "code",
   "execution_count": 1,
   "metadata": {},
   "outputs": [
    {
     "data": {
      "text/plain": [
       "True"
      ]
     },
     "execution_count": 1,
     "metadata": {},
     "output_type": "execute_result"
    }
   ],
   "source": [
    "import os\n",
    "import json\n",
    "import GEOparse\n",
    "import pandas as pd\n",
    "from openai import OpenAI\n",
    "\n",
    "from prompts.column_description import system_message, dataset_columns_description_prompt, dataset_input\n",
    "from utils import utils\n",
    "from utils import openai_utils\n",
    "import prompts\n",
    "from importlib import reload\n",
    "\n",
    "from dotenv import load_dotenv\n",
    "\n",
    "load_dotenv()"
   ]
  },
  {
   "cell_type": "code",
   "execution_count": 2,
   "metadata": {},
   "outputs": [
    {
     "data": {
      "text/plain": [
       "<module 'prompts.column_description' from '/home/bek/Desktop/iCog/semantic parsing/Bio_data_semantic_parsing/prompts/column_description.py'>"
      ]
     },
     "execution_count": 2,
     "metadata": {},
     "output_type": "execute_result"
    }
   ],
   "source": [
    "reload(utils)\n",
    "reload(openai_utils)\n",
    "reload(prompts.column_description)"
   ]
  },
  {
   "cell_type": "code",
   "execution_count": 3,
   "metadata": {},
   "outputs": [
    {
     "name": "stderr",
     "output_type": "stream",
     "text": [
      "05-Mar-2025 14:36:04 DEBUG utils - Directory ./data/GEO already exists. Skipping.\n",
      "05-Mar-2025 14:36:04 INFO GEOparse - File already exist: using local version.\n",
      "05-Mar-2025 14:36:04 INFO GEOparse - Parsing ./data/GEO/GSE12277_family.soft.gz: \n",
      "05-Mar-2025 14:36:04 DEBUG GEOparse - DATABASE: GeoMiame\n",
      "05-Mar-2025 14:36:04 DEBUG GEOparse - SERIES: GSE12277\n",
      "05-Mar-2025 14:36:04 DEBUG GEOparse - PLATFORM: GPL570\n",
      "/home/bek/Desktop/iCog/semantic parsing/Bio_data_semantic_parsing/venv/lib/python3.12/site-packages/GEOparse/GEOparse.py:401: DtypeWarning: Columns (2) have mixed types. Specify dtype option on import or set low_memory=False.\n",
      "  return read_csv(StringIO(data), index_col=None, sep=\"\\t\")\n",
      "05-Mar-2025 14:36:10 DEBUG GEOparse - SAMPLE: GSM308237\n",
      "05-Mar-2025 14:36:11 DEBUG GEOparse - SAMPLE: GSM308239\n",
      "05-Mar-2025 14:36:11 DEBUG GEOparse - SAMPLE: GSM308241\n",
      "05-Mar-2025 14:36:11 DEBUG GEOparse - SAMPLE: GSM308242\n",
      "05-Mar-2025 14:36:12 DEBUG GEOparse - SAMPLE: GSM308244\n",
      "05-Mar-2025 14:36:12 DEBUG GEOparse - SAMPLE: GSM308245\n",
      "05-Mar-2025 14:36:13 DEBUG GEOparse - SAMPLE: GSM308246\n",
      "05-Mar-2025 14:36:13 DEBUG GEOparse - SAMPLE: GSM308247\n",
      "05-Mar-2025 14:36:13 DEBUG GEOparse - SAMPLE: GSM308254\n",
      "05-Mar-2025 14:36:14 DEBUG GEOparse - SAMPLE: GSM308255\n",
      "05-Mar-2025 14:36:14 DEBUG GEOparse - SAMPLE: GSM308317\n",
      "05-Mar-2025 14:36:15 DEBUG GEOparse - SAMPLE: GSM308461\n",
      "05-Mar-2025 14:36:15 DEBUG GEOparse - SAMPLE: GSM308462\n",
      "05-Mar-2025 14:36:15 DEBUG GEOparse - SAMPLE: GSM308463\n",
      "05-Mar-2025 14:36:15 DEBUG GEOparse - SAMPLE: GSM308465\n",
      "05-Mar-2025 14:36:16 DEBUG GEOparse - SAMPLE: GSM308467\n",
      "05-Mar-2025 14:36:16 DEBUG GEOparse - SAMPLE: GSM308469\n",
      "05-Mar-2025 14:36:16 DEBUG GEOparse - SAMPLE: GSM308470\n",
      "05-Mar-2025 14:36:17 DEBUG GEOparse - SAMPLE: GSM308473\n"
     ]
    }
   ],
   "source": [
    "gse= GEOparse.get_GEO(geo=\"GSE12277\", destdir=\"./data/GEO\")"
   ]
  },
  {
   "cell_type": "markdown",
   "metadata": {},
   "source": [
    "### Column description generation for the table in GSMs"
   ]
  },
  {
   "cell_type": "code",
   "execution_count": 5,
   "metadata": {},
   "outputs": [
    {
     "data": {
      "text/html": [
       "<div>\n",
       "<style scoped>\n",
       "    .dataframe tbody tr th:only-of-type {\n",
       "        vertical-align: middle;\n",
       "    }\n",
       "\n",
       "    .dataframe tbody tr th {\n",
       "        vertical-align: top;\n",
       "    }\n",
       "\n",
       "    .dataframe thead th {\n",
       "        text-align: right;\n",
       "    }\n",
       "</style>\n",
       "<table border=\"1\" class=\"dataframe\">\n",
       "  <thead>\n",
       "    <tr style=\"text-align: right;\">\n",
       "      <th></th>\n",
       "      <th>ID_REF</th>\n",
       "      <th>VALUE</th>\n",
       "      <th>ABS_CALL</th>\n",
       "      <th>DETECTION P-VALUE</th>\n",
       "    </tr>\n",
       "  </thead>\n",
       "  <tbody>\n",
       "    <tr>\n",
       "      <th>0</th>\n",
       "      <td>AFFX-BioB-5_at</td>\n",
       "      <td>115.4570</td>\n",
       "      <td>P</td>\n",
       "      <td>0.000581</td>\n",
       "    </tr>\n",
       "    <tr>\n",
       "      <th>1</th>\n",
       "      <td>AFFX-BioB-M_at</td>\n",
       "      <td>119.7700</td>\n",
       "      <td>P</td>\n",
       "      <td>0.000044</td>\n",
       "    </tr>\n",
       "    <tr>\n",
       "      <th>2</th>\n",
       "      <td>AFFX-BioB-3_at</td>\n",
       "      <td>84.8163</td>\n",
       "      <td>P</td>\n",
       "      <td>0.000095</td>\n",
       "    </tr>\n",
       "    <tr>\n",
       "      <th>3</th>\n",
       "      <td>AFFX-BioC-5_at</td>\n",
       "      <td>296.3510</td>\n",
       "      <td>P</td>\n",
       "      <td>0.000052</td>\n",
       "    </tr>\n",
       "    <tr>\n",
       "      <th>4</th>\n",
       "      <td>AFFX-BioC-3_at</td>\n",
       "      <td>470.6520</td>\n",
       "      <td>P</td>\n",
       "      <td>0.000044</td>\n",
       "    </tr>\n",
       "  </tbody>\n",
       "</table>\n",
       "</div>"
      ],
      "text/plain": [
       "           ID_REF     VALUE ABS_CALL  DETECTION P-VALUE\n",
       "0  AFFX-BioB-5_at  115.4570        P           0.000581\n",
       "1  AFFX-BioB-M_at  119.7700        P           0.000044\n",
       "2  AFFX-BioB-3_at   84.8163        P           0.000095\n",
       "3  AFFX-BioC-5_at  296.3510        P           0.000052\n",
       "4  AFFX-BioC-3_at  470.6520        P           0.000044"
      ]
     },
     "execution_count": 5,
     "metadata": {},
     "output_type": "execute_result"
    }
   ],
   "source": [
    "gsm= gse.gsms[\"GSM308246\"]\n",
    "data= gsm.table\n",
    "data.head()"
   ]
  },
  {
   "cell_type": "code",
   "execution_count": 5,
   "metadata": {},
   "outputs": [],
   "source": [
    "sample = data.sample(20)"
   ]
  },
  {
   "cell_type": "code",
   "execution_count": 6,
   "metadata": {},
   "outputs": [
    {
     "name": "stdout",
     "output_type": "stream",
     "text": [
      "            ID_REF       VALUE ABS_CALL  DETECTION P-VALUE\n",
      "43515    243653_at    1.192690        A           0.919434\n",
      "14012  214572_s_at   27.373000        P           0.010742\n",
      "10016  210479_s_at    5.621650        A           0.246094\n",
      "5513   205925_s_at    0.630271        A           0.696289\n",
      "49939   1560019_at    0.565803        A           0.870361\n",
      "52678   1565617_at   34.498600        A           0.129639\n",
      "14119    214682_at    1.148910        A           0.633789\n",
      "32982    233116_at   58.970800        P           0.023926\n",
      "42847  242985_x_at    8.164640        A           0.466064\n",
      "24362  224488_s_at    1.151420        A           0.432373\n",
      "24049    224164_at   38.744500        P           0.001953\n",
      "3863     204275_at   45.129000        P           0.001953\n",
      "50574   1561093_at   39.578400        A           0.194580\n",
      "36659    236797_at    3.531530        A           0.274170\n",
      "17823    218397_at  471.524000        P           0.000244\n",
      "22713  222821_s_at  122.475000        P           0.018555\n",
      "28934    229067_at   68.557700        P           0.000244\n",
      "14556  215121_x_at   30.087300        M           0.046143\n",
      "32612    232746_at   13.310600        M           0.043945\n",
      "8476     208920_at   53.714700        P           0.000244\n"
     ]
    }
   ],
   "source": [
    "df_string = sample.to_string()\n",
    "print(df_string)\n"
   ]
  },
  {
   "cell_type": "code",
   "execution_count": 7,
   "metadata": {},
   "outputs": [],
   "source": [
    "dataset_description= \"GEO is a public functional genomics data repository supporting MIAME-compliant data submissions. Array- and sequence-based data are accepted. Tools are provided to help users query and download experiments and curated gene expression profiles.\""
   ]
  },
  {
   "cell_type": "code",
   "execution_count": 12,
   "metadata": {},
   "outputs": [],
   "source": [
    "generation_params = {\n",
    "    'temperature': 0.0,\n",
    "    'max_tokens': 4096,\n",
    "}"
   ]
  },
  {
   "cell_type": "code",
   "execution_count": 9,
   "metadata": {},
   "outputs": [],
   "source": [
    "messages = [\n",
    "    {'role': 'system', 'content': system_message},\n",
    "    {'role': 'user', 'content': dataset_columns_description_prompt \n",
    "                                + dataset_input.format(dataset_description= dataset_description, dataset= df_string)}\n",
    "]"
   ]
  },
  {
   "cell_type": "code",
   "execution_count": 10,
   "metadata": {},
   "outputs": [],
   "source": [
    "response = openai_utils.openai_generate(messages=messages, **generation_params)\n",
    "descriptions = utils.postprocess_response(response.choices[0].message.content)"
   ]
  },
  {
   "cell_type": "code",
   "execution_count": 11,
   "metadata": {},
   "outputs": [
    {
     "data": {
      "text/plain": [
       "{'ID_REF': {'description': 'Unique identifier for each gene expression profile in the dataset.',\n",
       "  'data_type': 'string'},\n",
       " 'VALUE': {'description': 'Quantitative value representing the gene expression level.',\n",
       "  'data_type': 'float'},\n",
       " 'ABS_CALL': {'description': \"Categorical value indicating the quality of the measurement, with 'A' indicating absent, 'P' indicating present, and 'M' indicating marginal.\",\n",
       "  'data_type': 'string'},\n",
       " 'DETECTION P-VALUE': {'description': 'Statistical value indicating the reliability of the measurement, with lower values indicating higher reliability.',\n",
       "  'data_type': 'float'}}"
      ]
     },
     "execution_count": 11,
     "metadata": {},
     "output_type": "execute_result"
    }
   ],
   "source": [
    "descriptions"
   ]
  },
  {
   "cell_type": "markdown",
   "metadata": {},
   "source": [
    "### Predicate generation for table entries"
   ]
  },
  {
   "cell_type": "code",
   "execution_count": 22,
   "metadata": {},
   "outputs": [
    {
     "name": "stdout",
     "output_type": "stream",
     "text": [
      "GSM308246\n"
     ]
    }
   ],
   "source": [
    "gsm_id = gsm.metadata.get(\"geo_accession\", [\"Unknown_GSE\"])[0]\n",
    "print(gsm_id)"
   ]
  },
  {
   "cell_type": "markdown",
   "metadata": {},
   "source": [
    "Generate a unique ID for each row in a GSM"
   ]
  },
  {
   "cell_type": "code",
   "execution_count": 24,
   "metadata": {},
   "outputs": [
    {
     "name": "stdout",
     "output_type": "stream",
     "text": [
      "               ID_REF       VALUE ABS_CALL  DETECTION P-VALUE        Unique_ID\n",
      "0      AFFX-BioB-5_at  115.457000        P           0.000581      0_GSM308246\n",
      "1      AFFX-BioB-M_at  119.770000        P           0.000044      1_GSM308246\n",
      "2      AFFX-BioB-3_at   84.816300        P           0.000095      2_GSM308246\n",
      "3      AFFX-BioC-5_at  296.351000        P           0.000052      3_GSM308246\n",
      "4      AFFX-BioC-3_at  470.652000        P           0.000044      4_GSM308246\n",
      "...               ...         ...      ...                ...              ...\n",
      "54665      1570631_at   12.766800        P           0.023926  54665_GSM308246\n",
      "54666      1570632_at    1.179860        A           0.780518  54666_GSM308246\n",
      "54667      1570633_at    0.159784        A           0.953857  54667_GSM308246\n",
      "54668      1570635_at    1.926470        A           0.753906  54668_GSM308246\n",
      "54669      1570639_at    4.649640        A           0.398926  54669_GSM308246\n",
      "\n",
      "[54670 rows x 5 columns]\n"
     ]
    }
   ],
   "source": [
    "\n",
    "# Create a unique ID by combining row index and GSM ID\n",
    "data[\"Unique_ID\"] = data.index.astype(str) + \"_\" + gsm_id\n",
    "\n",
    "# Display the updated DataFrame\n",
    "print(data.head(-5))"
   ]
  },
  {
   "cell_type": "code",
   "execution_count": 26,
   "metadata": {},
   "outputs": [
    {
     "name": "stdout",
     "output_type": "stream",
     "text": [
      "             ID_REF       VALUE ABS_CALL  DETECTION P-VALUE        Unique_ID\n",
      "27172     227304_at   69.489700        P           0.000244  27172_GSM308246\n",
      "1888    202299_s_at  603.042000        P           0.000244   1888_GSM308246\n",
      "54150    1569736_at    3.065860        A           0.129639  54150_GSM308246\n",
      "30820     230953_at    1.205890        A           0.850342  30820_GSM308246\n",
      "35723     235861_at   28.253600        P           0.000244  35723_GSM308246\n",
      "47739  1556341_s_at   62.745900        A           0.111572  47739_GSM308246\n",
      "35973     236111_at    1.477930        A           0.466064  35973_GSM308246\n",
      "4984      205396_at   11.996100        A           0.246094   4984_GSM308246\n",
      "19616     220191_at    0.199738        A           0.601074  19616_GSM308246\n",
      "31123     231256_at    8.607630        A           0.303711  31123_GSM308246\n"
     ]
    }
   ],
   "source": [
    "sample_data=data.sample(10)\n",
    "print(sample_data) "
   ]
  },
  {
   "cell_type": "code",
   "execution_count": 27,
   "metadata": {},
   "outputs": [
    {
     "name": "stdout",
     "output_type": "stream",
     "text": [
      "Extracted Columns: ['ID_REF', 'VALUE', 'ABS_CALL', 'DETECTION P-VALUE', 'Unique_ID']\n"
     ]
    }
   ],
   "source": [
    "columns = list(sample_data.columns)\n",
    "print(\"Extracted Columns:\", columns)\n"
   ]
  },
  {
   "cell_type": "code",
   "execution_count": 28,
   "metadata": {},
   "outputs": [],
   "source": [
    "prompt = f\"\"\"\n",
    "    You are a data standardization expert. Convert the following dataset column names into standardized predicate names:\n",
    "    {columns}\n",
    "    Return a JSON dictionary where keys are original column names and values are standardized predicate names.\n",
    "    \"\"\""
   ]
  },
  {
   "cell_type": "code",
   "execution_count": 29,
   "metadata": {},
   "outputs": [],
   "source": [
    "messages =[\n",
    "    {'role':'system', 'content':\"You are an expert in data standardization.\"},\n",
    "    {'role':'user', 'content':prompt}\n",
    "]"
   ]
  },
  {
   "cell_type": "code",
   "execution_count": 41,
   "metadata": {},
   "outputs": [],
   "source": [
    "response = openai_utils.openai_generate(messages=messages, **generation_params)\n",
    "predicate_mapping = response.choices[0].message.content"
   ]
  },
  {
   "cell_type": "code",
   "execution_count": 42,
   "metadata": {},
   "outputs": [
    {
     "name": "stdout",
     "output_type": "stream",
     "text": [
      "Predicate Mapping: {\n",
      "    \"ID_REF\": \"idRef\",\n",
      "    \"VALUE\": \"value\",\n",
      "    \"ABS_CALL\": \"absCall\",\n",
      "    \"DETECTION P-VALUE\": \"detectionPValue\",\n",
      "    \"Unique_ID\": \"uniqueId\"\n",
      "}\n"
     ]
    }
   ],
   "source": [
    "print(\"Predicate Mapping:\", predicate_mapping)"
   ]
  },
  {
   "cell_type": "code",
   "execution_count": 43,
   "metadata": {},
   "outputs": [],
   "source": [
    "predicate_mapping = json.loads(predicate_mapping)"
   ]
  },
  {
   "cell_type": "code",
   "execution_count": 69,
   "metadata": {},
   "outputs": [],
   "source": [
    "def generate_fol_predicates(row, predicate_mapping):\n",
    "    \"\"\"Convert a row of data into FOL predicates.\"\"\"\n",
    "    unique_id = row[\"Unique_ID\"]  # Use Unique_ID as the main entity\n",
    "    predicates = [f'GSM_Measurement({unique_id})']  # Main predicate\n",
    "\n",
    "    # Convert each column into a predicate\n",
    "    for col, predicate in predicate_mapping.items():\n",
    "        value = row[col]\n",
    "        formatted_value = value if pd.notna(value) else \"null\"\n",
    "\n",
    "         # Exclude uniqueId(Unique_ID, Unique_ID)\n",
    "        if predicate == \"uniqueId\" and formatted_value == unique_id:\n",
    "            continue\n",
    "        \n",
    "        predicates.append(f'{predicate}({unique_id}, {formatted_value})')\n",
    "\n",
    "    return \",\\n    \".join(predicates) +\",\""
   ]
  },
  {
   "cell_type": "code",
   "execution_count": 70,
   "metadata": {},
   "outputs": [
    {
     "name": "stdout",
     "output_type": "stream",
     "text": [
      "GSM_Measurement(27172_GSM308246),\n",
      "    idRef(27172_GSM308246, 227304_at),\n",
      "    value(27172_GSM308246, 69.4897),\n",
      "    absCall(27172_GSM308246, P),\n",
      "    detectionPValue(27172_GSM308246, 0.000244141),\n",
      "GSM_Measurement(1888_GSM308246),\n",
      "    idRef(1888_GSM308246, 202299_s_at),\n",
      "    value(1888_GSM308246, 603.042),\n",
      "    absCall(1888_GSM308246, P),\n",
      "    detectionPValue(1888_GSM308246, 0.000244141),\n",
      "GSM_Measurement(54150_GSM308246),\n",
      "    idRef(54150_GSM308246, 1569736_at),\n",
      "    value(54150_GSM308246, 3.06586),\n",
      "    absCall(54150_GSM308246, A),\n",
      "    detectionPValue(54150_GSM308246, 0.129639),\n",
      "GSM_Measurement(30820_GSM308246),\n",
      "    idRef(30820_GSM308246, 230953_at),\n",
      "    value(30820_GSM308246, 1.20589),\n",
      "    absCall(30820_GSM308246, A),\n",
      "    detectionPValue(30820_GSM308246, 0.850342),\n",
      "GSM_Measurement(35723_GSM308246),\n",
      "    idRef(35723_GSM308246, 235861_at),\n",
      "    value(35723_GSM308246, 28.2536),\n",
      "    absCall(35723_GSM308246, P),\n",
      "    detectionPValue(35723_GSM308246, 0.000244141),\n",
      "GSM_Measurement(47739_GSM308246),\n",
      "    idRef(47739_GSM308246, 1556341_s_at),\n",
      "    value(47739_GSM308246, 62.7459),\n",
      "    absCall(47739_GSM308246, A),\n",
      "    detectionPValue(47739_GSM308246, 0.111572),\n",
      "GSM_Measurement(35973_GSM308246),\n",
      "    idRef(35973_GSM308246, 236111_at),\n",
      "    value(35973_GSM308246, 1.47793),\n",
      "    absCall(35973_GSM308246, A),\n",
      "    detectionPValue(35973_GSM308246, 0.466064),\n",
      "GSM_Measurement(4984_GSM308246),\n",
      "    idRef(4984_GSM308246, 205396_at),\n",
      "    value(4984_GSM308246, 11.9961),\n",
      "    absCall(4984_GSM308246, A),\n",
      "    detectionPValue(4984_GSM308246, 0.246094),\n",
      "GSM_Measurement(19616_GSM308246),\n",
      "    idRef(19616_GSM308246, 220191_at),\n",
      "    value(19616_GSM308246, 0.199738),\n",
      "    absCall(19616_GSM308246, A),\n",
      "    detectionPValue(19616_GSM308246, 0.601074),\n",
      "GSM_Measurement(31123_GSM308246),\n",
      "    idRef(31123_GSM308246, 231256_at),\n",
      "    value(31123_GSM308246, 8.60763),\n",
      "    absCall(31123_GSM308246, A),\n",
      "    detectionPValue(31123_GSM308246, 0.303711),\n"
     ]
    }
   ],
   "source": [
    "# Generate predicates for each row\n",
    "fol_predicates = [generate_fol_predicates(row, predicate_mapping) for _, row in sample_data.iterrows()]\n",
    "\n",
    "# Print results\n",
    "for pred in fol_predicates:\n",
    "    print(pred)\n",
    "\n",
    "\n"
   ]
  },
  {
   "cell_type": "code",
   "execution_count": 71,
   "metadata": {},
   "outputs": [],
   "source": [
    "with open(\"./outputs/predicates.txt\", \"w\") as file:\n",
    "    file.write(\"\\n\".join(fol_predicates))"
   ]
  },
  {
   "cell_type": "markdown",
   "metadata": {},
   "source": [
    "### Generating predicates that represent the relationship between GSE and GSM"
   ]
  },
  {
   "cell_type": "code",
   "execution_count": 56,
   "metadata": {},
   "outputs": [
    {
     "data": {
      "text/plain": [
       "{'title': ['Hematopoietic Progenitor Cells of Different Donor Age'],\n",
       " 'geo_accession': ['GSE12277'],\n",
       " 'status': ['Public on Jun 12 2009'],\n",
       " 'submission_date': ['Jul 29 2008'],\n",
       " 'last_update_date': ['Mar 25 2019'],\n",
       " 'pubmed_id': ['19513108'],\n",
       " 'summary': ['In this series we have analyzed the effect of donor age on the gene expression profile of human hematopoietic stem and progenitor cells (HPC). Cells were taken from umbilical cord blood (CB) or from G-CSF mobilized blood of healthy donors for allogeneic blood stem cell transplantation.'],\n",
       " 'overall_design': ['Hematopoietic progenitor cells (HPC) were isolated within the CD34+ cell fraction from fresh human cord blood (CB) or from G-CSF mobilized peripheral blood (PB) as described in detail before (Wagner et al., Blood, 2004, 104:675-684; Wagner et al., Stem cells, 2005, 23:1180-1191; Wagner et al., 2007, 10:2638-2657). Differential gene expression was subsequently compared in the CD34+ samples of different donor age.'],\n",
       " 'type': ['Expression profiling by array'],\n",
       " 'contributor': ['Wolfgang,,Wagner',\n",
       "  'Simone,,Bork',\n",
       "  'Patrick,,Horn',\n",
       "  'Anthony,D,Ho'],\n",
       " 'sample_id': ['GSM308237',\n",
       "  'GSM308239',\n",
       "  'GSM308241',\n",
       "  'GSM308242',\n",
       "  'GSM308244',\n",
       "  'GSM308245',\n",
       "  'GSM308246',\n",
       "  'GSM308247',\n",
       "  'GSM308254',\n",
       "  'GSM308255',\n",
       "  'GSM308317',\n",
       "  'GSM308461',\n",
       "  'GSM308462',\n",
       "  'GSM308463',\n",
       "  'GSM308465',\n",
       "  'GSM308467',\n",
       "  'GSM308469',\n",
       "  'GSM308470',\n",
       "  'GSM308473'],\n",
       " 'contact_name': ['Wolfgang,,Wagner'],\n",
       " 'contact_email': ['wwagner@ukaachen.de'],\n",
       " 'contact_phone': ['+49 241 8088611'],\n",
       " 'contact_laboratory': ['Stem Cell Biology and Cellular Engineering'],\n",
       " 'contact_department': ['Helmholtz Institute for Biomedical Engineering'],\n",
       " 'contact_institute': ['RWTH Aachen University'],\n",
       " 'contact_address': ['Pauwelsstrasse 20'],\n",
       " 'contact_city': ['Aachen'],\n",
       " 'contact_zip/postal_code': ['52074'],\n",
       " 'contact_country': ['Germany'],\n",
       " 'supplementary_file': ['ftp://ftp.ncbi.nlm.nih.gov/geo/series/GSE12nnn/GSE12277/suppl/GSE12277_RAW.tar'],\n",
       " 'platform_id': ['GPL570'],\n",
       " 'platform_taxid': ['9606'],\n",
       " 'sample_taxid': ['9606'],\n",
       " 'relation': ['BioProject: https://www.ncbi.nlm.nih.gov/bioproject/PRJNA113665']}"
      ]
     },
     "execution_count": 56,
     "metadata": {},
     "output_type": "execute_result"
    }
   ],
   "source": [
    "gse.metadata"
   ]
  },
  {
   "cell_type": "code",
   "execution_count": 57,
   "metadata": {},
   "outputs": [],
   "source": [
    "def generate_fol_relationship(metadata):\n",
    "    \"\"\"\n",
    "    Generates First-Order Logic (FOL) representation of the GSE-GSM relationship.\n",
    "\n",
    "    Args:\n",
    "        metadata (dict): Dictionary containing GSE metadata.\n",
    "\n",
    "    Returns:\n",
    "        str: FOL statements representing GSE-GSM relationships.\n",
    "    \"\"\"\n",
    "    gse_id = metadata.get(\"geo_accession\", [\"Unknown_GSE\"])[0]  # Get GSE ID\n",
    "    gsm_ids = metadata.get(\"sample_id\", [])  # Get GSM IDs list\n",
    "\n",
    "    fol_statements = [f\"has_sample({gse_id}, {gsm});\" for gsm in gsm_ids]  # Create FOL statements\n",
    "\n",
    "    return \"\\n\".join(fol_statements)"
   ]
  },
  {
   "cell_type": "code",
   "execution_count": 58,
   "metadata": {},
   "outputs": [],
   "source": [
    "gse_metadata= gse.metadata"
   ]
  },
  {
   "cell_type": "code",
   "execution_count": 59,
   "metadata": {},
   "outputs": [],
   "source": [
    "fol_output = generate_fol_relationship(gse_metadata)"
   ]
  },
  {
   "cell_type": "code",
   "execution_count": 60,
   "metadata": {},
   "outputs": [
    {
     "name": "stdout",
     "output_type": "stream",
     "text": [
      "Example FOL Output:\n",
      "has_sample(GSE12277, GSM308237);\n",
      "has_sample(GSE12277, GSM308239);\n",
      "has_sample(GSE12277, GSM308241);\n",
      "has_sample(GSE12277, GSM308242);\n",
      "has_sample(GSE12277, GSM308244);\n",
      "has_sample(GSE12277, GSM308245);\n",
      "has_sample(GSE12277, GSM308246);\n",
      "has_sample(GSE12277, GSM308247);\n",
      "has_sample(GSE12277, GSM308254);\n",
      "has_sample(GSE12277, GSM308255);\n",
      "has_sample(GSE12277, GSM308317);\n",
      "has_sample(GSE12277, GSM308461);\n",
      "has_sample(GSE12277, GSM308462);\n",
      "has_sample(GSE12277, GSM308463);\n",
      "has_sample(GSE12277, GSM308465);\n",
      "has_sample(GSE12277, GSM308467);\n",
      "has_sample(GSE12277, GSM308469);\n",
      "has_sample(GSE12277, GSM308470);\n",
      "has_sample(GSE12277, GSM308473);\n"
     ]
    }
   ],
   "source": [
    "print(\"Example FOL Output:\")\n",
    "print(fol_output)"
   ]
  },
  {
   "cell_type": "markdown",
   "metadata": {},
   "source": [
    "### PLN formatted predicate generation"
   ]
  },
  {
   "cell_type": "code",
   "execution_count": null,
   "metadata": {},
   "outputs": [],
   "source": []
  }
 ],
 "metadata": {
  "kernelspec": {
   "display_name": "venv",
   "language": "python",
   "name": "python3"
  },
  "language_info": {
   "codemirror_mode": {
    "name": "ipython",
    "version": 3
   },
   "file_extension": ".py",
   "mimetype": "text/x-python",
   "name": "python",
   "nbconvert_exporter": "python",
   "pygments_lexer": "ipython3",
   "version": "3.12.3"
  }
 },
 "nbformat": 4,
 "nbformat_minor": 2
}
